{
 "cells": [
  {
   "cell_type": "code",
   "execution_count": 1,
   "metadata": {},
   "outputs": [],
   "source": [
    "import numpy\n",
    "import random\n",
    "from collections import defaultdict\n",
    "import urllib\n",
    "import math\n",
    "import random\n",
    "import collections\n",
    "import string"
   ]
  },
  {
   "cell_type": "code",
   "execution_count": 2,
   "metadata": {},
   "outputs": [
    {
     "name": "stdout",
     "output_type": "stream",
     "text": [
      "Reading data...\n",
      "done\n"
     ]
    }
   ],
   "source": [
    "def parse(path):\n",
    "  file = open(path, 'r')\n",
    "  for l in file:\n",
    "    yield eval(l)\n",
    "\n",
    "print(\"Reading data...\")\n",
    "products = list(parse(\"C:/Users/Moi/Downloads/reviews.json\"))\n",
    "# http://jmcauley.ucsd.edu/data/amazon/qa/qa_Tools_and_Home_Improvement.json.gz\n",
    "qa = list(parse(\"C:/Users/Moi/Downloads/qa.json\"))\n",
    "print(\"done\")"
   ]
  },
  {
   "cell_type": "code",
   "execution_count": 3,
   "metadata": {},
   "outputs": [],
   "source": [
    "reviews = defaultdict(lambda: [])\n",
    "for product in products:\n",
    "    reviews[product[\"asin\"]].append(product[\"reviewText\"])"
   ]
  },
  {
   "cell_type": "code",
   "execution_count": 4,
   "metadata": {},
   "outputs": [],
   "source": [
    "def tf(term, document):\n",
    "    count = collections.defaultdict(int)\n",
    "    for word in document.split():\n",
    "        count[word] += 1\n",
    "\n",
    "    return count[term]/len(document.split())"
   ]
  },
  {
   "cell_type": "code",
   "execution_count": 5,
   "metadata": {},
   "outputs": [],
   "source": [
    "#docDict is the union of a question and the set of all reviews for said question.\n",
    "def idf(term, docSet):\n",
    "    count = 0\n",
    "    for doc in docSet:\n",
    "        if term in doc.lower():\n",
    "            count += 1\n",
    "    return math.log(len(docSet)/(count+1))"
   ]
  },
  {
   "cell_type": "code",
   "execution_count": 6,
   "metadata": {},
   "outputs": [],
   "source": [
    "def feature(document, docSet):\n",
    "    document = document.lower()\n",
    "    document = ''.join([c for c in document if not (c in string.punctuation)])\n",
    "    \n",
    "    feat = collections.defaultdict(int)\n",
    "    for term in document.split():\n",
    "        feat[term] = tf(term, document) * idf(term, docSet)\n",
    "    return feat"
   ]
  },
  {
   "cell_type": "code",
   "execution_count": 7,
   "metadata": {},
   "outputs": [],
   "source": [
    "# queryFeat is a feature vector for the query and reviewFeat is the feature vector for the review\n",
    "def cosineSimilarity(queryFeat, reviewFeat):\n",
    "    # Find the words the 2 dictionaries have in common\n",
    "    querySet = set(queryFeat.keys())\n",
    "    reviewSet = set(reviewFeat.keys())\n",
    "    allWords = querySet.union(reviewSet)\n",
    "    \n",
    "    # Find the cosine similarity\n",
    "    numerator = 0\n",
    "    mag1 = 0\n",
    "    mag2 = 0\n",
    "    for word in allWords:\n",
    "        numerator = numerator + queryFeat[word] * reviewFeat[word]\n",
    "        mag1 = mag1 + queryFeat[word]**2\n",
    "        mag2 = mag2 + reviewFeat[word]**2\n",
    "    if mag1 > 0 and mag2 > 0:\n",
    "        return (numerator/((mag1*mag2)**0.5))\n",
    "    else:\n",
    "        return -1"
   ]
  },
  {
   "cell_type": "code",
   "execution_count": 19,
   "metadata": {},
   "outputs": [],
   "source": [
    "#questionSet = set()\n",
    "\n",
    "\n",
    "def randomQuestion(qa, reviews):\n",
    "    \n",
    "    maxReviews = 0\n",
    "    \n",
    "    #numReviews = 0\n",
    "    for question in qa:\n",
    "    #while numReviews < 70:\n",
    "        if (question['questionType'] != \"yes/no\"): continue\n",
    "        if (question['answerType'] == '?'): continue\n",
    "        #if (question['asin'] in questionSet): continue\n",
    "        questionText = question['question']\n",
    "        asin = question['asin']\n",
    "        answer = question['answerType']\n",
    "        numReviews = len(reviews[asin])\n",
    "        if (numReviews < 50): continue\n",
    "            \n",
    "        if numReviews > maxReviews: \n",
    "            maxReviews = numReviews\n",
    "            print(maxReviews)\n",
    "    \n",
    "        # reviewsSet is list of all review text for this product\n",
    "        reviewsSet = reviews[asin]\n",
    "        # docDict is union of questionText and reviewsDoc\n",
    "        #docSet = list(reviewsSet)\n",
    "        #docSet.append(questionText)\n",
    "\n",
    "        # Make dictionaries for the query and review\n",
    "        #queryFeat = feature(questionText, docSet)\n",
    "        #cosSimList = {review : cosineSimilarity(queryFeat, feature(review, docSet)) for review in reviewsSet}\n",
    "        #cosSimList = sorted(cosSimList.items(), key=lambda x:x[1])\n",
    "\n",
    "        #reviewSample = [review[0] for review in cosSimList[:10]]\n",
    "        #reviewSample = reviewSample + [review[0] for review in cosSimList[-10:]]\n",
    "        \n",
    "        #reviewSample = [review[0] for review in cosSimList]\n",
    "\n",
    "        #print(questionText)\n",
    "        #print(cosSimList[-3:])\n",
    "\n",
    "        #print(question['answerType'])\n",
    "        \n",
    "        #print([asin, questionText, reviewsSet, answer])\n",
    "\n",
    "        yield [asin, questionText, reviewsSet, answer]"
   ]
  },
  {
   "cell_type": "code",
   "execution_count": 20,
   "metadata": {},
   "outputs": [
    {
     "name": "stdout",
     "output_type": "stream",
     "text": [
      "124\n",
      "136\n",
      "161\n",
      "188\n",
      "345\n"
     ]
    }
   ],
   "source": [
    "\n",
    "with open(\"C:/Users/Moi/Downloads/votingData.csv\", 'w') as the_file:\n",
    "    data = list(randomQuestion(qa, reviews))\n",
    "    \n",
    "    #for i in range(0,100):\n",
    "    for d in data:\n",
    "        asin = d[0]\n",
    "        question = d[1]\n",
    "        reviewSample = d[2]\n",
    "        answer = d[3]\n",
    "        questionSet.add(asin)\n",
    "        for review in reviewSample:\n",
    "            the_file.write(asin)\n",
    "            the_file.write(',')\n",
    "            the_file.write(question.replace(',', ''))\n",
    "            the_file.write(',')\n",
    "            the_file.write(review.replace(',', ''))\n",
    "            the_file.write(',')\n",
    "            the_file.write(answer.replace(',', ''))\n",
    "            the_file.write('\\n')"
   ]
  },
  {
   "cell_type": "code",
   "execution_count": null,
   "metadata": {},
   "outputs": [],
   "source": []
  },
  {
   "cell_type": "code",
   "execution_count": null,
   "metadata": {},
   "outputs": [],
   "source": []
  },
  {
   "cell_type": "code",
   "execution_count": null,
   "metadata": {},
   "outputs": [],
   "source": []
  },
  {
   "cell_type": "code",
   "execution_count": null,
   "metadata": {},
   "outputs": [],
   "source": []
  }
 ],
 "metadata": {
  "kernelspec": {
   "display_name": "Python 3",
   "language": "python",
   "name": "python3"
  },
  "language_info": {
   "codemirror_mode": {
    "name": "ipython",
    "version": 3
   },
   "file_extension": ".py",
   "mimetype": "text/x-python",
   "name": "python",
   "nbconvert_exporter": "python",
   "pygments_lexer": "ipython3",
   "version": "3.6.5"
  }
 },
 "nbformat": 4,
 "nbformat_minor": 2
}
